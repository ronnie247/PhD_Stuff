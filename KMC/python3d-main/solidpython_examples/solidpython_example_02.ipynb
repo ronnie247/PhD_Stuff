{
 "cells": [
  {
   "cell_type": "code",
   "execution_count": 1,
   "metadata": {},
   "outputs": [],
   "source": [
    "from solid import *"
   ]
  },
  {
   "cell_type": "code",
   "execution_count": 2,
   "metadata": {},
   "outputs": [],
   "source": [
    "c = circle(r = 1)\n",
    "t = translate([2, 0, 0]) (c)\n",
    "e = linear_extrude(height = 10, center = True, convexity = 10, twist = -500, slices = 500) (t)\n",
    "col = color('lightgreen') (e)\n",
    "path = scad_render_to_file(col, 'solidpython_example_02.scad')"
   ]
  }
 ],
 "metadata": {
  "kernelspec": {
   "display_name": "Python [conda env:root] *",
   "language": "python",
   "name": "conda-root-py"
  },
  "language_info": {
   "codemirror_mode": {
    "name": "ipython",
    "version": 3
   },
   "file_extension": ".py",
   "mimetype": "text/x-python",
   "name": "python",
   "nbconvert_exporter": "python",
   "pygments_lexer": "ipython3",
   "version": "3.7.3"
  }
 },
 "nbformat": 4,
 "nbformat_minor": 5
}

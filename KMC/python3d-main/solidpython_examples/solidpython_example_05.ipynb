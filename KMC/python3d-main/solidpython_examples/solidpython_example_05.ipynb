{
 "cells": [
  {
   "cell_type": "code",
   "execution_count": 1,
   "metadata": {},
   "outputs": [],
   "source": [
    "import solid as scad\n",
    "import subprocess\n",
    "import os"
   ]
  },
  {
   "cell_type": "markdown",
   "metadata": {},
   "source": [
    "### sponge"
   ]
  },
  {
   "cell_type": "code",
   "execution_count": 2,
   "metadata": {},
   "outputs": [],
   "source": [
    "depth = 3\n",
    "sponge = scad.cube([1,1,1], center = True)\n",
    "z = 1.1\n",
    "side = 1\n",
    "for d in range(1, depth+1):\n",
    "    side /= 3\n",
    "    for x in range(1,3**d,3):\n",
    "        for y in range(1,3**d,3):\n",
    "            box_a = scad.cube([side,side,z], center = True)\n",
    "            box_a = scad.translate([side*x-0.5+side/2, side*y-0.5+side/2, 0]) (box_a)            \n",
    "            box_b = scad.rotate([90,0,0]) (box_a)\n",
    "            box_c = scad.rotate([0,90,0]) (box_a)\n",
    "            sponge -= box_a\n",
    "            sponge -= box_b\n",
    "            sponge -= box_c\n",
    "\n",
    "sponge = scad.translate([3.3, 0.5, 0.5]) (sponge)"
   ]
  },
  {
   "cell_type": "markdown",
   "metadata": {},
   "source": [
    "### text"
   ]
  },
  {
   "cell_type": "code",
   "execution_count": 3,
   "metadata": {},
   "outputs": [],
   "source": [
    "text = scad.text('Pyth   n 3d', size = 1)\n",
    "text_gray = scad.linear_extrude(height = 0.9) (text)\n",
    "text_gray = scad.color('gray', 0.5) (text_gray)\n",
    "\n",
    "text_white = scad.linear_extrude(height = 0.1) (text)\n",
    "text_white = scad.color('white', 0.8) (text_white)\n",
    "text_white = scad.translate([0, 0, 0.9]) (text_white)\n",
    "\n",
    "text_blue = scad.linear_extrude(height = 0.1) (text)\n",
    "text_blue = scad.color('blue', 0.2) (text_blue)\n",
    "text_blue = scad.translate([0, 0, 0.9]) (text_blue)"
   ]
  },
  {
   "cell_type": "markdown",
   "metadata": {},
   "source": [
    "### merge"
   ]
  },
  {
   "cell_type": "code",
   "execution_count": 4,
   "metadata": {},
   "outputs": [],
   "source": [
    "objects = text_gray + text_white + text_blue\n",
    "for i in range(0,10):\n",
    "    sponge_entity = scad.color('magenta', 0.5/(i**2+1)) (sponge)\n",
    "    sponge_entity = sponge_entity + scad.color('blue', 0.5/(i**2+1)) (sponge)\n",
    "    objects += scad.translate([0, 0, i*2]) (sponge_entity)\n",
    "    if i>0:\n",
    "        objects += scad.translate([0, 0, -i*2]) (sponge_entity)\n",
    "        objects += scad.translate([0, i*2, 0]) (sponge_entity)\n",
    "        objects += scad.translate([0, -i*2, 0]) (sponge_entity)"
   ]
  },
  {
   "cell_type": "markdown",
   "metadata": {},
   "source": [
    "### render"
   ]
  },
  {
   "cell_type": "code",
   "execution_count": 5,
   "metadata": {},
   "outputs": [
    {
     "data": {
      "text/plain": [
       "(<_io.BufferedReader name=45>, <_io.BufferedReader name=47>)"
      ]
     },
     "execution_count": 5,
     "metadata": {},
     "output_type": "execute_result"
    }
   ],
   "source": [
    "filename = 'solidpython_example_05'\n",
    "render = scad.scad_render_to_file(objects, filename+'.scad')\n",
    "# camera parameters when exporting png: \n",
    "#                                 =translate_x,y,z,rot_x,y,z,dist or \n",
    "#                                 =eye_x,y,z,center_x,y,z\n",
    "\n",
    "#  =colorscheme: *Cornfield | Metallic | Sunset | \n",
    "#                                 Starnight | BeforeDawn | Nature | DeepOcean | \n",
    "#                                 Solarized | Tomorrow | Tomorrow 2 | Tomorrow \n",
    "#                                 Night | Monotone\n",
    "cmd = \"openscad \"+filename+\".scad --camera '3,2,2,20,5,-70,30' --imgsize=10000,3000 --colorscheme='Tomorrow' -o \"+filename+\".png\"\n",
    "MyOut = subprocess.Popen(\n",
    "    cmd, \n",
    "    shell=True, \n",
    "    stdout=subprocess.PIPE, \n",
    "    stderr=subprocess.PIPE, \n",
    "    stdin=subprocess.PIPE\n",
    ")\n",
    "MyOut.stdout, MyOut.stderr "
   ]
  }
 ],
 "metadata": {
  "kernelspec": {
   "display_name": "Python 3",
   "language": "python",
   "name": "python3"
  },
  "language_info": {
   "codemirror_mode": {
    "name": "ipython",
    "version": 3
   },
   "file_extension": ".py",
   "mimetype": "text/x-python",
   "name": "python",
   "nbconvert_exporter": "python",
   "pygments_lexer": "ipython3",
   "version": "3.7.3"
  }
 },
 "nbformat": 4,
 "nbformat_minor": 2
}

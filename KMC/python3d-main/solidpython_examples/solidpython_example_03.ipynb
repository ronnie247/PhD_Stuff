{
 "cells": [
  {
   "cell_type": "code",
   "execution_count": 1,
   "metadata": {},
   "outputs": [],
   "source": [
    "from solid import *\n",
    "from IPython.display import Image\n",
    "import datetime"
   ]
  },
  {
   "cell_type": "code",
   "execution_count": 2,
   "metadata": {},
   "outputs": [],
   "source": [
    "time_start = datetime.datetime.now()"
   ]
  },
  {
   "cell_type": "code",
   "execution_count": 3,
   "metadata": {},
   "outputs": [],
   "source": [
    "depth = 3\n",
    "sponge = cube([1,1,1], center = True)\n",
    "z = 1.1\n",
    "side = 1\n",
    "for d in range(1, depth+1):\n",
    "    side /= 3\n",
    "    for x in range(1,3**d,3):\n",
    "        for y in range(1,3**d,3):\n",
    "            box_a = cube([side,side,z], center = True)\n",
    "            box_a = translate([side*x-0.5+side/2, side*y-0.5+side/2, 0]) (box_a)            \n",
    "            box_b = rotate([90,0,0]) (box_a)\n",
    "            box_c = rotate([0,90,0]) (box_a)\n",
    "            sponge -= box_a\n",
    "            sponge -= box_b\n",
    "            sponge -= box_c\n",
    "path = scad_render_to_file(sponge, 'solidpython_example_03.scad')"
   ]
  },
  {
   "cell_type": "code",
   "execution_count": 4,
   "metadata": {},
   "outputs": [],
   "source": [
    "# export to stl\n",
    "!openscad solidpython_example_03.scad -o solidpython_example_03.stl"
   ]
  },
  {
   "cell_type": "code",
   "execution_count": 5,
   "metadata": {},
   "outputs": [
    {
     "name": "stdout",
     "output_type": "stream",
     "text": [
      "spent 347 seconds\n"
     ]
    }
   ],
   "source": [
    "time_end = datetime.datetime.now()\n",
    "print('spent', (time_end - time_start).seconds, 'seconds')"
   ]
  }
 ],
 "metadata": {
  "kernelspec": {
   "display_name": "Python [conda env:root] *",
   "language": "python",
   "name": "conda-root-py"
  },
  "language_info": {
   "codemirror_mode": {
    "name": "ipython",
    "version": 3
   },
   "file_extension": ".py",
   "mimetype": "text/x-python",
   "name": "python",
   "nbconvert_exporter": "python",
   "pygments_lexer": "ipython3",
   "version": "3.7.3"
  }
 },
 "nbformat": 4,
 "nbformat_minor": 5
}
